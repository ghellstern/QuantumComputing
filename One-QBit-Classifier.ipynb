{
 "cells": [
  {
   "cell_type": "markdown",
   "metadata": {},
   "source": [
    "# One-Qubit-Classifier\n",
    "\n"
   ]
  },
  {
   "cell_type": "markdown",
   "metadata": {},
   "source": [
    "With the following code a linear separable 2dim dataset can be classified.\n",
    "\n",
    "The original idea and some code snippets stem from \"NISQAI: One-Qubit Quantum Classifier\" by \n",
    "Ryan LaRose, Yousif Almulla, Nic Ezzell, Joe Iosue, Arkin Tikku, https://github.com/QuantumAI-lib/NISQAI/tree/master/examples/one-qubit-classifier\n",
    "\n",
    "They however used pyQuil for implementation.\n",
    "\n",
    "The modification and transformation to Qiskit has been done by Gerhard Hellstern, ghellstern@gmx.de"
   ]
  },
  {
   "cell_type": "code",
   "execution_count": 1,
   "metadata": {},
   "outputs": [],
   "source": [
    "from qiskit import *\n",
    "import numpy as np\n",
    "from scipy.optimize import minimize\n",
    "\n",
    "import matplotlib.pyplot as plt\n",
    "%matplotlib inline"
   ]
  },
  {
   "cell_type": "code",
   "execution_count": 2,
   "metadata": {},
   "outputs": [
    {
     "name": "stdout",
     "output_type": "stream",
     "text": [
      "Aer backends:  [<QasmSimulator('qasm_simulator') from AerProvider()>, <StatevectorSimulator('statevector_simulator') from AerProvider()>, <UnitarySimulator('unitary_simulator') from AerProvider()>]\n"
     ]
    }
   ],
   "source": [
    "from qiskit import Aer\n",
    "# See a list of available local simulators\n",
    "print(\"Aer backends: \", Aer.backends())\n",
    "backend_state = Aer.get_backend('statevector_simulator')\n",
    "backend_sim = Aer.get_backend('qasm_simulator')"
   ]
  },
  {
   "cell_type": "markdown",
   "metadata": {},
   "source": [
    "### Generating data\n",
    "\n",
    "Generate 2 dimensional random date in [0,1]x[0,1]. Label the left half of the square with 1 and the second one with 0."
   ]
  },
  {
   "cell_type": "code",
   "execution_count": 3,
   "metadata": {},
   "outputs": [
    {
     "data": {
      "image/png": "[encoded data removed]",
      "text/plain": [
       "<Figure size 432x288 with 1 Axes>"
      ]
     },
     "metadata": {
      "needs_background": "light"
     },
     "output_type": "display_data"
    }
   ],
   "source": [
    "np.random.seed(seed=12345)\n",
    "n = 100\n",
    "data = np.random.rand(n, 2)\n",
    "\n",
    "label=np.zeros(n)\n",
    "\n",
    "for p in range(0,n):\n",
    "    if data[p,0] <= 0.5:\n",
    "        label[p]=1\n",
    "\n",
    "# plot the line y = x\n",
    "xs = np.linspace(0, 1, 100)\n",
    "ys = 0.5 * np.ones_like(xs)\n",
    "plt.plot(ys, xs, '--k')\n",
    "\n",
    "for i in range(n):\n",
    "    if label[i] == 0:\n",
    "        ckey = 'r'\n",
    "    else:\n",
    "        ckey = 'g'\n",
    "    plt.scatter(data[i, 0], data[i, 1], color=ckey)\n",
    "    \n",
    "# title and axis lables\n",
    "plt.title(\"Data Points in Unit Square\", fontweight=\"bold\", fontsize=16)\n",
    "\n",
    "# put on a grid and show the plot\n",
    "plt.grid()\n",
    "plt.show()\n",
    "        \n",
    "\n"
   ]
  },
  {
   "cell_type": "markdown",
   "metadata": {},
   "source": [
    "### Qubit Encoding\n",
    "\n",
    "Here we implement a method of data encoding that we call \"qubit encoding.\" Qubit encoding works by writing two bits of classical information into one bit of quantum information. How is this done? Note that any qubit can be written\n",
    "\n",
    "\\begin{equation}\n",
    "|\\psi\\rangle = \\alpha |0\\rangle + \\beta |1\\rangle\n",
    "\\end{equation}\n",
    "\n",
    "where $\\alpha, \\beta \\in \\mathbb{C}$ satisfying $|\\alpha|^2 + |\\beta|^2 = 1$. Because of this normalization condition, we may equivalently write\n",
    "\n",
    "\\begin{equation}\n",
    "|\\psi\\rangle = \\cos(\\theta / 2) |0\\rangle + e^{i \\phi} \\sin(\\theta / 2)|1\\rangle\n",
    "\\end{equation}\n",
    "\n",
    "We then encode information into the phases $0 \\le \\theta \\le \\pi$ and $ 0 \\le \\phi \\le 2 \\pi$. \n",
    "\n",
    "For the $(x, y)$ coordinates of our points, there are several possibilities for encoding:\n",
    "\n",
    "\\begin{align}\n",
    "\\theta &= \\pi x \\\\\n",
    "\\phi &= 2 \\pi y\n",
    "\\end{align}\n",
    "\n",
    "Another encoding is:\n",
    "\n",
    "\\begin{align}\n",
    "\\theta &= \\frac{1}{2} \\tan^{-1}\\left( \\frac{y}{x} \\right) \\\\\n",
    "\\phi &= \\pi (x^2 + y^2),\n",
    "\\end{align}\n",
    "\n",
    "In code, we may make these transformations as follows:"
   ]
  },
  {
   "cell_type": "code",
   "execution_count": 4,
   "metadata": {},
   "outputs": [],
   "source": [
    "qdata1 = np.zeros((n, 2))\n",
    "\n",
    "for (index, point) in enumerate(data):\n",
    "    qdata1[index][0] = np.pi * point[0]\n",
    "    qdata1[index][1] = 2 * np.pi * point[1]"
   ]
  },
  {
   "cell_type": "code",
   "execution_count": 5,
   "metadata": {},
   "outputs": [],
   "source": [
    "qdata2 = np.zeros((n, 2))\n",
    "\n",
    "for (index, point) in enumerate(data):\n",
    "    qdata2[index][0] = 0.5*np.arctan(point[1]/point[0])\n",
    "    qdata2[index][1] = np.pi*(point[0]**2 + point[1]**2)"
   ]
  },
  {
   "cell_type": "code",
   "execution_count": 6,
   "metadata": {},
   "outputs": [],
   "source": [
    "## To switch between the two encoding possibilities\n",
    "qdata=qdata1"
   ]
  },
  {
   "cell_type": "markdown",
   "metadata": {},
   "source": [
    "### State Preparation\n",
    "Starting from the ground state $|0\\rangle$ state and given angles $\\theta, \\phi$ state preparatiob can be performed via:\n",
    "\n",
    "\\begin{equation}\n",
    "S(\\theta, \\phi) |0\\rangle \\rightarrow |\\psi\\rangle = \\cos(\\theta / 2) |0\\rangle + e^{i \\phi} \\sin(\\theta / 2)|1\\rangle\n",
    "\\end{equation}\n",
    "\n",
    "where $S$ is a _state preparation unitary_ or _state preparation circuit_.\n",
    "\n",
    "It is clear from the equation above that the matrix representation for $S$ in the computational basis is\n",
    "\n",
    "\\begin{equation}\n",
    "S(\\theta, \\phi) = \\left[ \\begin{matrix} \n",
    "\\cos(\\theta / 2) & e^{-i \\phi} \\sin(\\theta / 2)\\\\\n",
    "e^{i \\phi} \\sin(\\theta / 2) & - \\cos(\\theta / 2)  \\\\\n",
    "  \\end{matrix} \\right]\n",
    "\\end{equation}\n",
    "\n",
    "Using Qiskit, one possibility for stae preparation is using the u3-gate:\n",
    "\\begin{equation}\n",
    "u_3 = u_3(\\theta,\\pi, \\pi-\\phi)\n",
    "\\end{equation}\n"
   ]
  },
  {
   "cell_type": "markdown",
   "metadata": {},
   "source": [
    "After the classical data has been encoded and prepared into the quantum system, the next step is to perform unitary evolution on the quantum state representing the data. In the language of classical learning theory, this corresponds to implementing a layer of the neural network.\n",
    "\n",
    "In the quantum neural network case, we simply need to implement a sequence of parameterized gates.\n",
    "\n",
    "Again, in Qiskit the u3-gate can be used for this purpose."
   ]
  },
  {
   "cell_type": "code",
   "execution_count": 7,
   "metadata": {},
   "outputs": [],
   "source": [
    "qr = QuantumRegister(1,'q0')\n",
    "cr = ClassicalRegister(1,'c0')\n",
    "\n",
    "def make_program(pangles, uangles):\n",
    "    \"\"\"Returns a program that prepares the state according\n",
    "    to pangles and applies the unitary according to uangles.\n",
    "    \"\"\"\n",
    "    # instantiate a program\n",
    "    circuit0=QuantumCircuit(qr, cr)\n",
    "\n",
    "    # define a gate in Qiskit for the state preparation\n",
    "    circuit0.u3(pangles[0], pangles[1],np.pi-pangles[1],qr)\n",
    "    \n",
    "#    unitary(circuit0,uangles)\n",
    "    circuit0.u3(uangles[0], uangles[1],np.pi-uangles[1],qr)\n",
    "    return circuit0"
   ]
  },
  {
   "cell_type": "code",
   "execution_count": 8,
   "metadata": {},
   "outputs": [],
   "source": [
    "def obj_simple(angles):\n",
    "    \"\"\"Returns the number of zero outputs of a single training example.\"\"\"\n",
    "    # make the program\n",
    "    circuit1=make_program([theta, phi], angles)\n",
    "\n",
    "    circuit1.measure(qr, cr)\n",
    "    job_sim = execute(circuit1, backend_sim)\n",
    "    result_sim = job_sim.result()\n",
    "    result_counts = result_sim.get_counts(circuit1)\n",
    "    res_1=result_counts.get('1')\n",
    "    if res_1==None:\n",
    "        res_1=0\n",
    "    res_0=result_counts.get('0')\n",
    "    if res_0==None:\n",
    "        res_0=0\n",
    "    obj=res_1/(res_0+res_1)\n",
    "\n",
    "    print(\"The current value of the objective function is:\", obj, end=\"\\r\")\n",
    "    return obj"
   ]
  },
  {
   "cell_type": "markdown",
   "metadata": {},
   "source": [
    "### Training"
   ]
  },
  {
   "cell_type": "markdown",
   "metadata": {},
   "source": [
    "To faciliate training an  _indicator function_ $I(z_i = \\hat{z}_i)$ = 0 if $z_i = \\hat{z}_i$ and 1 otherwise is definied. Here, $z_i$ is the exact label of the $i$th training data $(x_i, y_i)$ and $\\hat{z}_i$ is the prediction of this label by our neural network. (In code, we use the variables `labels` for $z_i$ and `predictions` for $\\hat{z}_i$.)\n",
    "\n",
    "To define the total cost, sum over all points in the training data:\n",
    "\n",
    "\\begin{equation}\n",
    "C = \\sum_{i = 1}^{M} I(z_i = \\hat{z}_i)\n",
    "\\end{equation}\n"
   ]
  },
  {
   "cell_type": "code",
   "execution_count": 9,
   "metadata": {},
   "outputs": [],
   "source": [
    "# fraction of total data to use as training data\n",
    "train_frac = 0.7\n",
    "\n",
    "def obj(uangles):\n",
    "    \"\"\"Returns the objective function C defined above over all training data.\n",
    "    \n",
    "    Args:\n",
    "        uangles [type: list<float>]\n",
    "            the angles in the unitary evolution.\n",
    "\n",
    "    rtype: float\n",
    "    \"\"\"\n",
    "    # grab some training data from the overall data set\n",
    "    tpoints = int(train_frac * len(qdata))\n",
    "    tdata = qdata[:tpoints]\n",
    "    tlabels = label[:tpoints]\n",
    "    \n",
    "    # initialize a variable to store the output predictions of the neural net\n",
    "    predictions = np.zeros_like(tlabels, dtype=int)\n",
    "    \n",
    "    # loop over all training data to get the predictions\n",
    "    for i, pangles in enumerate(tdata):\n",
    "        circuit1=make_program(pangles, uangles)\n",
    "        circuit1.measure(qr, cr)\n",
    "        job_sim = execute(circuit1, backend_sim)\n",
    "        result_sim = job_sim.result()\n",
    "        result_counts = result_sim.get_counts(circuit1)\n",
    "        res_1=result_counts.get('1')\n",
    "        if res_1==None:\n",
    "            res_1=0\n",
    "        res_0=result_counts.get('0')\n",
    "        if res_0==None:\n",
    "            res_0=0\n",
    "        p0=res_0/(res_0+res_1)\n",
    "        p1=res_1/(res_0+res_1)\n",
    "        # take the prediction to be max(p0, p1)\n",
    "        if p0 >= p1:\n",
    "            predictions[i] = 0\n",
    "        else:\n",
    "            predictions[i] = 1\n",
    "        \n",
    "    # compute the difference of the labels and return the cost\n",
    "    cost = sum(abs(predictions - tlabels)) / tpoints\n",
    "    print(\"The current value of the cost function is:\", cost, end=\"\\r\")\n",
    "    return cost"
   ]
  },
  {
   "cell_type": "code",
   "execution_count": 10,
   "metadata": {},
   "outputs": [
    {
     "name": "stdout",
     "output_type": "stream",
     "text": [
      "The current value of the cost function is: 0.014285714285714285\r"
     ]
    }
   ],
   "source": [
    "# train the quantum neural network and time how long it takes\n",
    "# get some random angles\n",
    "angs = 2 * np.pi * np.random.rand(2)\n",
    "out = minimize(fun=obj, x0=angs, method=\"Powell\")\n"
   ]
  },
  {
   "cell_type": "code",
   "execution_count": 11,
   "metadata": {},
   "outputs": [
    {
     "name": "stdout",
     "output_type": "stream",
     "text": [
      "0.0\n",
      "[3.17067419 3.64657332]\n"
     ]
    }
   ],
   "source": [
    "# grab the optimal angles and minimal cost value\n",
    "optimal_angles = out['x']\n",
    "fval = out['fun']\n",
    "\n",
    "# print them out\n",
    "print(fval)\n",
    "print(optimal_angles)"
   ]
  },
  {
   "cell_type": "markdown",
   "metadata": {},
   "source": [
    "### Predictions"
   ]
  },
  {
   "cell_type": "markdown",
   "metadata": {},
   "source": [
    "Calculatee predictions on the whole dataset.\n",
    "\n"
   ]
  },
  {
   "cell_type": "code",
   "execution_count": 12,
   "metadata": {},
   "outputs": [],
   "source": [
    "def get_all_predictions(angles):\n",
    "    \"\"\"Returns a numpy array of all predictions.\"\"\"\n",
    "    # initialize a variable to store the output predictions of the neural net\n",
    "    zhats = np.zeros_like(label, dtype=int)\n",
    "    \n",
    "    # loop over all data to get predictions\n",
    "    for i, pangles in enumerate(qdata):\n",
    "        circuit1=make_program(pangles, angles)\n",
    "        circuit1.measure(qr, cr)\n",
    "        job_sim = execute(circuit1, backend_sim)\n",
    "        result_sim = job_sim.result()\n",
    "        result_counts = result_sim.get_counts(circuit1)\n",
    "        res_1=result_counts.get('1')\n",
    "        if res_1==None:\n",
    "            res_1=0\n",
    "        res_0=result_counts.get('0')\n",
    "        if res_0==None:\n",
    "            res_0=0\n",
    "        p0=res_0/(res_0+res_1)\n",
    "        p1=res_1/(res_0+res_1)\n",
    "\n",
    "        # take the prediction to be max(p0, p1)\n",
    "        if p0 >= p1:\n",
    "            zhats[i] = 0\n",
    "        else:\n",
    "            zhats[i] = 1\n",
    "    return zhats"
   ]
  },
  {
   "cell_type": "code",
   "execution_count": 13,
   "metadata": {},
   "outputs": [],
   "source": [
    "# compute all the predictions of the quantum neural network\n",
    "predictions = get_all_predictions(optimal_angles)"
   ]
  },
  {
   "cell_type": "code",
   "execution_count": 14,
   "metadata": {},
   "outputs": [
    {
     "name": "stdout",
     "output_type": "stream",
     "text": [
      "=============== Results of quantum neural network classification ===============\n",
      "Out of 100 total data points:\n",
      "The QNN was trained on 70.0% of the total data (70 training points).\n",
      "The QNN classified 100.0 data points correctly (100.0% accuracy).\n",
      "================================================================================\n"
     ]
    },
    {
     "data": {
      "image/png": "[encoded data removed]",
      "text/plain": [
       "<Figure size 432x288 with 1 Axes>"
      ]
     },
     "metadata": {
      "needs_background": "light"
     },
     "output_type": "display_data"
    }
   ],
   "source": [
    "# compute statistics of the QNN\n",
    "ntrain = int(train_frac * n)\n",
    "ncorrect = n - sum(abs(predictions - label))\n",
    "acc = ncorrect / n * 100\n",
    "\n",
    "# print them out\n",
    "print(\" Results of quantum neural network classification \".center(80, \"=\"))\n",
    "print(\"Out of {} total data points:\".format(n))\n",
    "print(\"The QNN was trained on {}% of the total data ({} training points).\".format(train_frac * 100, ntrain))\n",
    "print(\"The QNN classified {} data points correctly ({}% accuracy).\".format(ncorrect, acc))\n",
    "print(\"\".center(80, \"=\"))\n",
    "\n",
    "# plot the points, line y = x, and prediction\n",
    "plt.plot(ys, xs, '--k')\n",
    "for i in range(n):\n",
    "    if predictions[i] == 0:\n",
    "        ckey = 'g'\n",
    "    else:\n",
    "        ckey = 'b'\n",
    "    plt.scatter(data[i, 0], data[i, 1], color=ckey)\n",
    "\n",
    "plt.grid()\n",
    "plt.title(\"QNN Predictions\", fontsize=16, fontweight=\"bold\")\n",
    "plt.show()"
   ]
  },
  {
   "cell_type": "code",
   "execution_count": null,
   "metadata": {},
   "outputs": [],
   "source": []
  }
 ],
 "metadata": {
  "kernelspec": {
   "display_name": "Python 3",
   "language": "python",
   "name": "python3"
  },
  "language_info": {
   "codemirror_mode": {
    "name": "ipython",
    "version": 3
   },
   "file_extension": ".py",
   "mimetype": "text/x-python",
   "name": "python",
   "nbconvert_exporter": "python",
   "pygments_lexer": "ipython3",
   "version": "3.7.3"
  }
 },
 "nbformat": 4,
 "nbformat_minor": 2
}
